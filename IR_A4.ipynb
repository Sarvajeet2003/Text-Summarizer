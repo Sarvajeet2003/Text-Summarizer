{
 "cells": [
  {
   "cell_type": "code",
   "execution_count": 3,
   "metadata": {},
   "outputs": [
    {
     "name": "stderr",
     "output_type": "stream",
     "text": [
      "/Users/sarvajeethuk/Downloads/IR/Assignment_4/.venv/lib/python3.12/site-packages/accelerate/accelerator.py:436: FutureWarning: Passing the following arguments to `Accelerator` is deprecated and will be removed in version 1.0 of Accelerate: dict_keys(['dispatch_batches', 'split_batches', 'even_batches', 'use_seedable_sampler']). Please pass an `accelerate.DataLoaderConfiguration` instead: \n",
      "dataloader_config = DataLoaderConfiguration(dispatch_batches=None, split_batches=False, even_batches=True, use_seedable_sampler=True)\n",
      "  warnings.warn(\n",
      "100%|██████████| 3/3 [00:02<00:00,  1.49it/s]\n"
     ]
    },
    {
     "name": "stdout",
     "output_type": "stream",
     "text": [
      "{'train_runtime': 2.0172, 'train_samples_per_second': 2.974, 'train_steps_per_second': 1.487, 'train_loss': 2.7329867680867515, 'epoch': 3.0}\n"
     ]
    },
    {
     "data": {
      "text/plain": [
       "('./fine_tuned_model/tokenizer_config.json',\n",
       " './fine_tuned_model/special_tokens_map.json',\n",
       " './fine_tuned_model/vocab.json',\n",
       " './fine_tuned_model/merges.txt',\n",
       " './fine_tuned_model/added_tokens.json')"
      ]
     },
     "execution_count": 3,
     "metadata": {},
     "output_type": "execute_result"
    }
   ],
   "source": [
    "import torch\n",
    "from transformers import GPT2Tokenizer, GPT2LMHeadModel\n",
    "from transformers import Trainer, TrainingArguments\n",
    "from torch.utils.data import Dataset\n",
    "\n",
    "class CustomDataset(Dataset):\n",
    "    def __init__(self, texts, summaries, tokenizer, max_length):\n",
    "        self.texts = texts\n",
    "        self.summaries = summaries\n",
    "        self.tokenizer = tokenizer\n",
    "        self.max_length = max_length\n",
    "\n",
    "    def __len__(self):\n",
    "        return len(self.texts)\n",
    "\n",
    "    def __getitem__(self, idx):\n",
    "        text = self.texts[idx]\n",
    "        summary = self.summaries[idx]\n",
    "        input_text = f\"Text: {text} Summary: {summary} END\"\n",
    "        encoding = self.tokenizer(\n",
    "            input_text,\n",
    "            max_length=self.max_length,\n",
    "            padding=\"max_length\",\n",
    "            truncation=True,\n",
    "            return_tensors=\"pt\"\n",
    "        )\n",
    "        labels = self.tokenizer(\n",
    "            summary,\n",
    "            max_length=self.max_length,\n",
    "            padding=\"max_length\",\n",
    "            truncation=True,\n",
    "            return_tensors=\"pt\"\n",
    "        )\n",
    "        return {\n",
    "            \"input_ids\": encoding[\"input_ids\"].flatten(),\n",
    "            \"attention_mask\": encoding[\"attention_mask\"].flatten(),\n",
    "            \"labels\": labels[\"input_ids\"].flatten()\n",
    "        }\n",
    "\n",
    "\n",
    "# Load tokenizer and model\n",
    "tokenizer = GPT2Tokenizer.from_pretrained(\"gpt2\")\n",
    "model = GPT2LMHeadModel.from_pretrained(\"gpt2\")\n",
    "tokenizer.pad_token = tokenizer.eos_token\n",
    "\n",
    "# Read data from your txt file\n",
    "with open(\"test.txt\", \"r\", encoding=\"utf-8\") as file:\n",
    "    data = file.read().strip().split(\"END\\n\\n\")\n",
    "\n",
    "# Extract texts and summaries\n",
    "train_texts = [sample.split(\"Text:\")[1].split(\"Summary:\")[0].strip() for sample in data]\n",
    "train_summaries = [sample.split(\"Summary:\")[1].strip() for sample in data]\n",
    "\n",
    "# Create dataset\n",
    "train_dataset = CustomDataset(train_texts, train_summaries, tokenizer, max_length=128)\n",
    "\n",
    "# Prepare training arguments\n",
    "training_args = TrainingArguments(\n",
    "    output_dir=\"./models\",\n",
    "    overwrite_output_dir=True,\n",
    "    num_train_epochs=3,\n",
    "    per_device_train_batch_size=4,\n",
    "    save_steps=10_000,\n",
    "    save_total_limit=2,\n",
    ")\n",
    "\n",
    "# Define custom training loop to calculate loss\n",
    "def compute_loss(model, inputs):\n",
    "    outputs = model(**inputs)\n",
    "    return outputs.loss\n",
    "\n",
    "# Instantiate Trainer with custom training loop\n",
    "trainer = Trainer(\n",
    "    model=model,\n",
    "    args=training_args,\n",
    "    train_dataset=train_dataset,\n",
    ")\n",
    "\n",
    "# Fine-tune the model\n",
    "trainer.train()\n",
    "\n",
    "# Save the fine-tuned model\n",
    "trainer.save_model(\"./fine_tuned_model\")\n",
    "\n",
    "# Save the tokenizer separately\n",
    "tokenizer.save_pretrained(\"./fine_tuned_model\")"
   ]
  },
  {
   "cell_type": "code",
   "execution_count": 10,
   "metadata": {},
   "outputs": [
    {
     "name": "stderr",
     "output_type": "stream",
     "text": [
      "The attention mask and the pad token id were not set. As a consequence, you may observe unexpected behavior. Please pass your input's `attention_mask` to obtain reliable results.\n",
      "Setting `pad_token_id` to `eos_token_id`:50256 for open-end generation.\n"
     ]
    },
    {
     "name": "stdout",
     "output_type": "stream",
     "text": [
      "Given Review Text: Cricket is a team sport involving a bat and ball played between two teams of eleven players each. The objective is to score more runs (points) than the opposing team. A match is divided into innings during which one team bats, two batter at a time, and the other team bowls.\n",
      "Given Summary: Cricket is a popular sport with a long history.\n",
      "Generated Summary: Cricket is a team sport involving a bat and ball played between two teams of eleven players each. The objective is to score more runs (points) than the opposing team. A match is divided into innings during which one team bats, two batter at a time, and the other team bowls. Cricket is a popular sport with a long history. The first team to win the match was the Indian team, the second team was the English team, and the third team was the British team. The\n"
     ]
    }
   ],
   "source": [
    "import torch\n",
    "from transformers import GPT2Tokenizer, GPT2LMHeadModel\n",
    "\n",
    "# Load the saved model\n",
    "model_path = \"./fine_tuned_model\"\n",
    "model = GPT2LMHeadModel.from_pretrained(model_path)\n",
    "tokenizer = GPT2Tokenizer.from_pretrained(model_path)\n",
    "\n",
    "# Given review text and summary\n",
    "review_text = \"Cricket is a team sport involving a bat and ball played between two teams of eleven players each. The objective is to score more runs (points) than the opposing team. A match is divided into innings during which one team bats, two batter at a time, and the other team bowls.\"\n",
    "given_summary = \"Cricket is a popular sport with a long history.\"\n",
    "\n",
    "# Concatenate review text and given summary\n",
    "input_text = f\"{review_text} {given_summary}\"\n",
    "\n",
    "# Tokenize the concatenated text\n",
    "input_ids = tokenizer.encode(input_text, return_tensors='pt')\n",
    "\n",
    "# Generate summary\n",
    "output = model.generate(input_ids, max_length=100, num_return_sequences=1, early_stopping=True)\n",
    "\n",
    "# Decode and print the generated summary\n",
    "generated_summary = tokenizer.decode(output[0], skip_special_tokens=True)\n",
    "print(\"Given Review Text:\", review_text)\n",
    "print(\"Given Summary:\", given_summary)\n",
    "print(\"Generated Summary:\", generated_summary)"
   ]
  },
  {
   "cell_type": "code",
   "execution_count": 13,
   "metadata": {},
   "outputs": [
    {
     "name": "stdout",
     "output_type": "stream",
     "text": [
      "ROUGE-1: Precision: 0.8333333333333334, Recall: 1.0, F1-Score: 0.9090909041322315\n",
      "ROUGE-2: Precision: 0.7125, Recall: 1.0, F1-Score: 0.8321167834620918\n",
      "ROUGE-L: Precision: 0.8333333333333334, Recall: 1.0, F1-Score: 0.9090909041322315\n"
     ]
    }
   ],
   "source": [
    "# from rouge_score import rouge_scorer\n",
    "\n",
    "from rouge import Rouge\n",
    "\n",
    "# Initialize Rouge\n",
    "rouge = Rouge()\n",
    "\n",
    "# Compute ROUGE scores\n",
    "scores = rouge.get_scores(generated_summary, input_text)\n",
    "\n",
    "# Print ROUGE scores\n",
    "print(\"ROUGE-1: Precision: {}, Recall: {}, F1-Score: {}\".format(scores[0]['rouge-1']['p'], scores[0]['rouge-1']['r'], scores[0]['rouge-1']['f']))\n",
    "print(\"ROUGE-2: Precision: {}, Recall: {}, F1-Score: {}\".format(scores[0]['rouge-2']['p'], scores[0]['rouge-2']['r'], scores[0]['rouge-2']['f']))\n",
    "print(\"ROUGE-L: Precision: {}, Recall: {}, F1-Score: {}\".format(scores[0]['rouge-l']['p'], scores[0]['rouge-l']['r'], scores[0]['rouge-l']['f']))\n"
   ]
  }
 ],
 "metadata": {
  "kernelspec": {
   "display_name": ".venv",
   "language": "python",
   "name": "python3"
  },
  "language_info": {
   "codemirror_mode": {
    "name": "ipython",
    "version": 3
   },
   "file_extension": ".py",
   "mimetype": "text/x-python",
   "name": "python",
   "nbconvert_exporter": "python",
   "pygments_lexer": "ipython3",
   "version": "3.12.3"
  }
 },
 "nbformat": 4,
 "nbformat_minor": 2
}
